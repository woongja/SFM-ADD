{
 "cells": [
  {
   "cell_type": "markdown",
   "id": "6c8ed041",
   "metadata": {},
   "source": [
    "### protocol 파일에 noise type 추가하기"
   ]
  },
  {
   "cell_type": "code",
   "execution_count": 1,
   "id": "04056fc2",
   "metadata": {},
   "outputs": [
    {
     "name": "stdout",
     "output_type": "stream",
     "text": [
      "✅ Done! Saved to /home/woongjae/wildspoof/protocols/protocol_wildspoof_n.txt\n"
     ]
    }
   ],
   "source": [
    "import os\n",
    "\n",
    "# Noise type 매핑 사전\n",
    "noise_map = {\n",
    "    \"background_noise\": \"background_noise\",\n",
    "    \"background_music\": \"background_music\",\n",
    "    \"lowpass_filter\": \"bandpassfilter\",\n",
    "    \"highpass_filter\": \"bandpassfilter\",\n",
    "    \"pitch_shift\": \"pitch_shift\",\n",
    "    \"time_stretch\": \"time_stretch\",\n",
    "    \"auto_tune\": \"auto_tune\",\n",
    "    \"echo\": \"echo\",\n",
    "    \"reverberation\": \"reverberation\",\n",
    "    \"white_noise\": \"white_noise\",\n",
    "    \"pink_noise\": \"pink_noise\",\n",
    "    \"gaussian_noise\": \"gaussian_noise\",\n",
    "    \"clean\": \"clean\"\n",
    "}\n",
    "\n",
    "input_path = \"/home/woongjae/wildspoof/protocols/protocol_wildspoof.txt\"\n",
    "output_path = \"/home/woongjae/wildspoof/protocols/protocol_wildspoof_n.txt\"\n",
    "\n",
    "with open(input_path, \"r\") as fin, open(output_path, \"w\") as fout:\n",
    "    for line in fin:\n",
    "        line = line.strip()\n",
    "        if not line:\n",
    "            continue\n",
    "\n",
    "        path, subset, label = line.split()\n",
    "\n",
    "        # default noise type: clean\n",
    "        noise_type = \"clean\"\n",
    "\n",
    "        for key in noise_map.keys():\n",
    "            if key in path:\n",
    "                noise_type = noise_map[key]\n",
    "                break\n",
    "\n",
    "        fout.write(f\"{path} {subset} {label} {noise_type}\\n\")\n",
    "\n",
    "print(f\"✅ Done! Saved to {output_path}\")\n"
   ]
  },
  {
   "cell_type": "code",
   "execution_count": null,
   "id": "322d257f",
   "metadata": {},
   "outputs": [],
   "source": []
  }
 ],
 "metadata": {
  "kernelspec": {
   "display_name": "ipynb",
   "language": "python",
   "name": "python3"
  },
  "language_info": {
   "codemirror_mode": {
    "name": "ipython",
    "version": 3
   },
   "file_extension": ".py",
   "mimetype": "text/x-python",
   "name": "python",
   "nbconvert_exporter": "python",
   "pygments_lexer": "ipython3",
   "version": "3.9.23"
  }
 },
 "nbformat": 4,
 "nbformat_minor": 5
}
